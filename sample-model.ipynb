{
 "cells": [
  {
   "cell_type": "code",
   "execution_count": 1,
   "metadata": {
    "_cell_guid": "b1076dfc-b9ad-4769-8c92-a6c4dae69d19",
    "_uuid": "8f2839f25d086af736a60e9eeb907d3b93b6e0e5",
    "execution": {
     "iopub.execute_input": "2022-05-09T04:13:41.089889Z",
     "iopub.status.busy": "2022-05-09T04:13:41.088589Z",
     "iopub.status.idle": "2022-05-09T04:13:42.220060Z",
     "shell.execute_reply": "2022-05-09T04:13:42.219228Z",
     "shell.execute_reply.started": "2022-05-09T04:13:41.089726Z"
    }
   },
   "outputs": [],
   "source": [
    "# This Python 3 environment comes with many helpful analytics libraries installed\n",
    "# It is defined by the kaggle/python Docker image: https://github.com/kaggle/docker-python\n",
    "# For example, here's several helpful packages to load\n",
    "\n",
    "import numpy as np # linear algebra\n",
    "import pandas as pd # data processing, CSV file I/O (e.g. pd.read_csv)\n",
    "import seaborn as sns\n",
    "import matplotlib.pyplot as plt\n",
    "from matplotlib import rc\n",
    "\n",
    "# Input data files are available in the read-only \"../input/\" directory\n",
    "# For example, running this (by clicking run or pressing Shift+Enter) will list all files under the input directory\n",
    "\n",
    "import os\n",
    "for dirname, _, filenames in os.walk('/kaggle/input'):\n",
    "    for filename in filenames:\n",
    "        print(os.path.join(dirname, filename))\n",
    "\n",
    "# You can write up to 20GB to the current directory (/kaggle/working/) that gets preserved as output when you create a version using \"Save & Run All\" \n",
    "# You can also write temporary files to /kaggle/temp/, but they won't be saved outside of the current session"
   ]
  },
  {
   "cell_type": "markdown",
   "metadata": {},
   "source": [
    "# **Basic EDA**"
   ]
  },
  {
   "cell_type": "code",
   "execution_count": 2,
   "metadata": {
    "execution": {
     "iopub.execute_input": "2022-05-09T04:13:42.224183Z",
     "iopub.status.busy": "2022-05-09T04:13:42.223948Z",
     "iopub.status.idle": "2022-05-09T04:13:42.438574Z",
     "shell.execute_reply": "2022-05-09T04:13:42.437677Z",
     "shell.execute_reply.started": "2022-05-09T04:13:42.224154Z"
    }
   },
   "outputs": [],
   "source": [
    "sample = pd.read_csv(\"/kaggle/input/spain-electricity-shortfall-challenge-2022/sample_submission_load_shortfall (1).csv\")\n",
    "train = pd.read_csv(\"/kaggle/input/spain-electricity-shortfall-challenge-2022/df_train.csv\")\n",
    "test = pd.read_csv(\"/kaggle/input/spain-electricity-shortfall-challenge-2022/df_test.csv\")"
   ]
  },
  {
   "cell_type": "code",
   "execution_count": 3,
   "metadata": {
    "execution": {
     "iopub.execute_input": "2022-05-09T04:13:42.440249Z",
     "iopub.status.busy": "2022-05-09T04:13:42.439892Z",
     "iopub.status.idle": "2022-05-09T04:13:42.460217Z",
     "shell.execute_reply": "2022-05-09T04:13:42.459208Z",
     "shell.execute_reply.started": "2022-05-09T04:13:42.440218Z"
    }
   },
   "outputs": [],
   "source": [
    "sample.head()"
   ]
  },
  {
   "cell_type": "code",
   "execution_count": 4,
   "metadata": {
    "execution": {
     "iopub.execute_input": "2022-05-09T04:13:42.463304Z",
     "iopub.status.busy": "2022-05-09T04:13:42.462811Z",
     "iopub.status.idle": "2022-05-09T04:13:42.502542Z",
     "shell.execute_reply": "2022-05-09T04:13:42.501730Z",
     "shell.execute_reply.started": "2022-05-09T04:13:42.463250Z"
    }
   },
   "outputs": [],
   "source": [
    "train.head()"
   ]
  },
  {
   "cell_type": "code",
   "execution_count": 5,
   "metadata": {
    "execution": {
     "iopub.execute_input": "2022-05-09T04:13:42.504141Z",
     "iopub.status.busy": "2022-05-09T04:13:42.503910Z",
     "iopub.status.idle": "2022-05-09T04:13:42.533483Z",
     "shell.execute_reply": "2022-05-09T04:13:42.532512Z",
     "shell.execute_reply.started": "2022-05-09T04:13:42.504111Z"
    }
   },
   "outputs": [],
   "source": [
    "test.head()"
   ]
  },
  {
   "cell_type": "code",
   "execution_count": 6,
   "metadata": {
    "execution": {
     "iopub.execute_input": "2022-05-09T04:13:42.535744Z",
     "iopub.status.busy": "2022-05-09T04:13:42.535397Z",
     "iopub.status.idle": "2022-05-09T04:13:42.551030Z",
     "shell.execute_reply": "2022-05-09T04:13:42.550272Z",
     "shell.execute_reply.started": "2022-05-09T04:13:42.535681Z"
    }
   },
   "outputs": [],
   "source": [
    "train.isnull().sum()"
   ]
  },
  {
   "cell_type": "code",
   "execution_count": 7,
   "metadata": {
    "execution": {
     "iopub.execute_input": "2022-05-09T04:13:42.552906Z",
     "iopub.status.busy": "2022-05-09T04:13:42.552323Z",
     "iopub.status.idle": "2022-05-09T04:13:42.599632Z",
     "shell.execute_reply": "2022-05-09T04:13:42.597743Z",
     "shell.execute_reply.started": "2022-05-09T04:13:42.552872Z"
    }
   },
   "outputs": [],
   "source": [
    "merged_data = pd.concat([train, test])\n",
    "merged_data.head()"
   ]
  },
  {
   "cell_type": "code",
   "execution_count": 8,
   "metadata": {
    "execution": {
     "iopub.execute_input": "2022-05-09T04:13:42.601138Z",
     "iopub.status.busy": "2022-05-09T04:13:42.600834Z",
     "iopub.status.idle": "2022-05-09T04:13:42.607210Z",
     "shell.execute_reply": "2022-05-09T04:13:42.606409Z",
     "shell.execute_reply.started": "2022-05-09T04:13:42.601106Z"
    }
   },
   "outputs": [],
   "source": [
    "merged_data.shape"
   ]
  },
  {
   "cell_type": "code",
   "execution_count": 9,
   "metadata": {
    "execution": {
     "iopub.execute_input": "2022-05-09T04:13:42.609485Z",
     "iopub.status.busy": "2022-05-09T04:13:42.608935Z",
     "iopub.status.idle": "2022-05-09T04:13:42.642996Z",
     "shell.execute_reply": "2022-05-09T04:13:42.642142Z",
     "shell.execute_reply.started": "2022-05-09T04:13:42.609439Z"
    }
   },
   "outputs": [],
   "source": [
    "merged_data.tail()"
   ]
  },
  {
   "cell_type": "code",
   "execution_count": 10,
   "metadata": {
    "execution": {
     "iopub.execute_input": "2022-05-09T04:13:42.645923Z",
     "iopub.status.busy": "2022-05-09T04:13:42.645625Z",
     "iopub.status.idle": "2022-05-09T04:13:42.666500Z",
     "shell.execute_reply": "2022-05-09T04:13:42.665767Z",
     "shell.execute_reply.started": "2022-05-09T04:13:42.645880Z"
    }
   },
   "outputs": [],
   "source": [
    "merged_data.isnull().sum()"
   ]
  },
  {
   "cell_type": "code",
   "execution_count": 11,
   "metadata": {
    "execution": {
     "iopub.execute_input": "2022-05-09T04:13:42.669035Z",
     "iopub.status.busy": "2022-05-09T04:13:42.667994Z",
     "iopub.status.idle": "2022-05-09T04:13:42.838607Z",
     "shell.execute_reply": "2022-05-09T04:13:42.837592Z",
     "shell.execute_reply.started": "2022-05-09T04:13:42.668984Z"
    }
   },
   "outputs": [],
   "source": [
    "sns.boxplot(merged_data['Valencia_pressure'])"
   ]
  },
  {
   "cell_type": "code",
   "execution_count": 12,
   "metadata": {
    "execution": {
     "iopub.execute_input": "2022-05-09T04:13:42.840835Z",
     "iopub.status.busy": "2022-05-09T04:13:42.840505Z",
     "iopub.status.idle": "2022-05-09T04:13:42.859204Z",
     "shell.execute_reply": "2022-05-09T04:13:42.858489Z",
     "shell.execute_reply.started": "2022-05-09T04:13:42.840790Z"
    }
   },
   "outputs": [],
   "source": [
    "print('mode')\n",
    "print(merged_data['Valencia_pressure'].mode())\n",
    "print('mean')\n",
    "print(merged_data['Valencia_pressure'].mean())\n",
    "print('median')\n",
    "print(merged_data['Valencia_pressure'].median())"
   ]
  },
  {
   "cell_type": "code",
   "execution_count": 13,
   "metadata": {
    "execution": {
     "iopub.execute_input": "2022-05-09T04:13:42.861470Z",
     "iopub.status.busy": "2022-05-09T04:13:42.860728Z",
     "iopub.status.idle": "2022-05-09T04:13:42.869477Z",
     "shell.execute_reply": "2022-05-09T04:13:42.868694Z",
     "shell.execute_reply.started": "2022-05-09T04:13:42.861417Z"
    }
   },
   "outputs": [],
   "source": [
    "clean_data = merged_data\n",
    "clean_data['Valencia_pressure'] = clean_data['Valencia_pressure'].fillna(clean_data['Valencia_pressure'].mode()[0])"
   ]
  },
  {
   "cell_type": "code",
   "execution_count": 14,
   "metadata": {
    "execution": {
     "iopub.execute_input": "2022-05-09T04:13:42.872370Z",
     "iopub.status.busy": "2022-05-09T04:13:42.871288Z",
     "iopub.status.idle": "2022-05-09T04:13:42.897969Z",
     "shell.execute_reply": "2022-05-09T04:13:42.897100Z",
     "shell.execute_reply.started": "2022-05-09T04:13:42.872316Z"
    }
   },
   "outputs": [],
   "source": [
    "clean_data.isnull().sum()"
   ]
  },
  {
   "cell_type": "code",
   "execution_count": 15,
   "metadata": {
    "execution": {
     "iopub.execute_input": "2022-05-09T04:13:42.899409Z",
     "iopub.status.busy": "2022-05-09T04:13:42.899162Z",
     "iopub.status.idle": "2022-05-09T04:13:42.908652Z",
     "shell.execute_reply": "2022-05-09T04:13:42.907761Z",
     "shell.execute_reply.started": "2022-05-09T04:13:42.899380Z"
    }
   },
   "outputs": [],
   "source": [
    "clean_data.dtypes"
   ]
  },
  {
   "cell_type": "code",
   "execution_count": 16,
   "metadata": {
    "execution": {
     "iopub.execute_input": "2022-05-09T04:13:42.911273Z",
     "iopub.status.busy": "2022-05-09T04:13:42.910423Z",
     "iopub.status.idle": "2022-05-09T04:13:42.924329Z",
     "shell.execute_reply": "2022-05-09T04:13:42.923174Z",
     "shell.execute_reply.started": "2022-05-09T04:13:42.911220Z"
    }
   },
   "outputs": [],
   "source": [
    "clean_data['time']"
   ]
  },
  {
   "cell_type": "code",
   "execution_count": 17,
   "metadata": {
    "execution": {
     "iopub.execute_input": "2022-05-09T04:13:42.927001Z",
     "iopub.status.busy": "2022-05-09T04:13:42.926294Z",
     "iopub.status.idle": "2022-05-09T04:13:42.944787Z",
     "shell.execute_reply": "2022-05-09T04:13:42.943807Z",
     "shell.execute_reply.started": "2022-05-09T04:13:42.926953Z"
    }
   },
   "outputs": [],
   "source": [
    "clean_data['time'] = pd.to_datetime(clean_data['time'])"
   ]
  },
  {
   "cell_type": "code",
   "execution_count": 18,
   "metadata": {
    "execution": {
     "iopub.execute_input": "2022-05-09T04:13:42.947932Z",
     "iopub.status.busy": "2022-05-09T04:13:42.947556Z",
     "iopub.status.idle": "2022-05-09T04:13:42.966203Z",
     "shell.execute_reply": "2022-05-09T04:13:42.965179Z",
     "shell.execute_reply.started": "2022-05-09T04:13:42.947895Z"
    }
   },
   "outputs": [],
   "source": [
    "clean_data.time"
   ]
  },
  {
   "cell_type": "code",
   "execution_count": 19,
   "metadata": {
    "execution": {
     "iopub.execute_input": "2022-05-09T04:13:42.968001Z",
     "iopub.status.busy": "2022-05-09T04:13:42.967352Z",
     "iopub.status.idle": "2022-05-09T04:13:42.979670Z",
     "shell.execute_reply": "2022-05-09T04:13:42.978802Z",
     "shell.execute_reply.started": "2022-05-09T04:13:42.967957Z"
    }
   },
   "outputs": [],
   "source": [
    "clean_data['Valencia_wind_deg']"
   ]
  },
  {
   "cell_type": "code",
   "execution_count": 20,
   "metadata": {
    "execution": {
     "iopub.execute_input": "2022-05-09T04:13:42.982348Z",
     "iopub.status.busy": "2022-05-09T04:13:42.981422Z",
     "iopub.status.idle": "2022-05-09T04:13:43.019543Z",
     "shell.execute_reply": "2022-05-09T04:13:43.018656Z",
     "shell.execute_reply.started": "2022-05-09T04:13:42.982294Z"
    }
   },
   "outputs": [],
   "source": [
    "clean_data['Valencia_wind_deg'] = clean_data['Valencia_wind_deg'].str.extract('(\\d+)')"
   ]
  },
  {
   "cell_type": "code",
   "execution_count": 21,
   "metadata": {
    "execution": {
     "iopub.execute_input": "2022-05-09T04:13:43.021644Z",
     "iopub.status.busy": "2022-05-09T04:13:43.021140Z",
     "iopub.status.idle": "2022-05-09T04:13:43.029534Z",
     "shell.execute_reply": "2022-05-09T04:13:43.028912Z",
     "shell.execute_reply.started": "2022-05-09T04:13:43.021607Z"
    }
   },
   "outputs": [],
   "source": [
    "clean_data['Valencia_wind_deg']"
   ]
  },
  {
   "cell_type": "code",
   "execution_count": 22,
   "metadata": {
    "execution": {
     "iopub.execute_input": "2022-05-09T04:13:43.031010Z",
     "iopub.status.busy": "2022-05-09T04:13:43.030749Z",
     "iopub.status.idle": "2022-05-09T04:13:43.050456Z",
     "shell.execute_reply": "2022-05-09T04:13:43.049617Z",
     "shell.execute_reply.started": "2022-05-09T04:13:43.030977Z"
    }
   },
   "outputs": [],
   "source": [
    "clean_data['Valencia_wind_deg'] = pd.to_numeric(clean_data['Valencia_wind_deg'])"
   ]
  },
  {
   "cell_type": "code",
   "execution_count": 23,
   "metadata": {
    "execution": {
     "iopub.execute_input": "2022-05-09T04:13:43.052913Z",
     "iopub.status.busy": "2022-05-09T04:13:43.052500Z",
     "iopub.status.idle": "2022-05-09T04:13:43.067285Z",
     "shell.execute_reply": "2022-05-09T04:13:43.066661Z",
     "shell.execute_reply.started": "2022-05-09T04:13:43.052872Z"
    }
   },
   "outputs": [],
   "source": [
    "clean_data['Valencia_wind_deg']"
   ]
  },
  {
   "cell_type": "code",
   "execution_count": 24,
   "metadata": {
    "execution": {
     "iopub.execute_input": "2022-05-09T04:13:43.068974Z",
     "iopub.status.busy": "2022-05-09T04:13:43.068558Z",
     "iopub.status.idle": "2022-05-09T04:13:43.080458Z",
     "shell.execute_reply": "2022-05-09T04:13:43.079371Z",
     "shell.execute_reply.started": "2022-05-09T04:13:43.068923Z"
    }
   },
   "outputs": [],
   "source": [
    "clean_data.Seville_pressure"
   ]
  },
  {
   "cell_type": "code",
   "execution_count": 25,
   "metadata": {
    "execution": {
     "iopub.execute_input": "2022-05-09T04:13:43.105081Z",
     "iopub.status.busy": "2022-05-09T04:13:43.104573Z",
     "iopub.status.idle": "2022-05-09T04:13:43.133503Z",
     "shell.execute_reply": "2022-05-09T04:13:43.132798Z",
     "shell.execute_reply.started": "2022-05-09T04:13:43.105041Z"
    }
   },
   "outputs": [],
   "source": [
    "clean_data.Seville_pressure = clean_data.Seville_pressure.str.extract('(\\d+)')\n",
    "\n"
   ]
  },
  {
   "cell_type": "code",
   "execution_count": 26,
   "metadata": {
    "execution": {
     "iopub.execute_input": "2022-05-09T04:13:43.164056Z",
     "iopub.status.busy": "2022-05-09T04:13:43.163699Z",
     "iopub.status.idle": "2022-05-09T04:13:43.180361Z",
     "shell.execute_reply": "2022-05-09T04:13:43.179624Z",
     "shell.execute_reply.started": "2022-05-09T04:13:43.164020Z"
    }
   },
   "outputs": [],
   "source": [
    "clean_data.Seville_pressure = pd.to_numeric(clean_data.Seville_pressure)"
   ]
  },
  {
   "cell_type": "code",
   "execution_count": 27,
   "metadata": {
    "execution": {
     "iopub.execute_input": "2022-05-09T04:13:43.227385Z",
     "iopub.status.busy": "2022-05-09T04:13:43.226503Z",
     "iopub.status.idle": "2022-05-09T04:13:43.235723Z",
     "shell.execute_reply": "2022-05-09T04:13:43.234849Z",
     "shell.execute_reply.started": "2022-05-09T04:13:43.227335Z"
    }
   },
   "outputs": [],
   "source": [
    "clean_data.Seville_pressure"
   ]
  },
  {
   "cell_type": "code",
   "execution_count": 28,
   "metadata": {
    "execution": {
     "iopub.execute_input": "2022-05-09T04:13:43.302757Z",
     "iopub.status.busy": "2022-05-09T04:13:43.302088Z",
     "iopub.status.idle": "2022-05-09T04:13:43.321713Z",
     "shell.execute_reply": "2022-05-09T04:13:43.320776Z",
     "shell.execute_reply.started": "2022-05-09T04:13:43.302696Z"
    }
   },
   "outputs": [],
   "source": [
    "final_data = clean_data.drop(['Unnamed: 0', 'time'], axis = 1)"
   ]
  },
  {
   "cell_type": "code",
   "execution_count": 29,
   "metadata": {
    "execution": {
     "iopub.execute_input": "2022-05-09T04:13:43.387455Z",
     "iopub.status.busy": "2022-05-09T04:13:43.386595Z",
     "iopub.status.idle": "2022-05-09T04:13:43.427828Z",
     "shell.execute_reply": "2022-05-09T04:13:43.426933Z",
     "shell.execute_reply.started": "2022-05-09T04:13:43.387413Z"
    }
   },
   "outputs": [],
   "source": [
    "final_data"
   ]
  },
  {
   "cell_type": "markdown",
   "metadata": {},
   "source": [
    "# **This is the beginning of the Modelling section**"
   ]
  },
  {
   "cell_type": "code",
   "execution_count": 30,
   "metadata": {
    "execution": {
     "iopub.execute_input": "2022-05-09T04:13:43.451125Z",
     "iopub.status.busy": "2022-05-09T04:13:43.450805Z",
     "iopub.status.idle": "2022-05-09T04:13:44.101813Z",
     "shell.execute_reply": "2022-05-09T04:13:44.100882Z",
     "shell.execute_reply.started": "2022-05-09T04:13:43.451093Z"
    }
   },
   "outputs": [],
   "source": [
    "from sklearn.metrics import mean_squared_error\n",
    "from sklearn import *\n",
    "from sklearn.linear_model import *\n",
    "\n",
    "from tqdm import tqdm\n",
    "import math\n",
    "import random\n",
    "\n",
    "from scipy import stats\n",
    "from scipy.stats import norm, skew\n",
    "#import seaborn as sns"
   ]
  },
  {
   "cell_type": "code",
   "execution_count": 31,
   "metadata": {
    "execution": {
     "iopub.execute_input": "2022-05-09T04:13:44.104285Z",
     "iopub.status.busy": "2022-05-09T04:13:44.103887Z",
     "iopub.status.idle": "2022-05-09T04:13:44.125851Z",
     "shell.execute_reply": "2022-05-09T04:13:44.124860Z",
     "shell.execute_reply.started": "2022-05-09T04:13:44.104241Z"
    }
   },
   "outputs": [],
   "source": [
    "y = final_data[:len(final_data)][['load_shortfall_3h']]\n",
    "x = final_data[:len(final_data)].drop('load_shortfall_3h', axis = 1)\n",
    "\n",
    "x_train = final_data[:len(final_data)].drop('load_shortfall_3h', axis = 1)\n",
    "x_test = final_data[len(final_data):].drop('load_shortfall_3h', axis = 1)"
   ]
  },
  {
   "cell_type": "code",
   "execution_count": 32,
   "metadata": {
    "execution": {
     "iopub.execute_input": "2022-05-09T04:13:44.128543Z",
     "iopub.status.busy": "2022-05-09T04:13:44.127906Z",
     "iopub.status.idle": "2022-05-09T04:13:44.161106Z",
     "shell.execute_reply": "2022-05-09T04:13:44.160249Z",
     "shell.execute_reply.started": "2022-05-09T04:13:44.128494Z"
    }
   },
   "outputs": [],
   "source": [
    "x.head()"
   ]
  },
  {
   "cell_type": "code",
   "execution_count": 33,
   "metadata": {
    "execution": {
     "iopub.execute_input": "2022-05-09T04:13:44.163224Z",
     "iopub.status.busy": "2022-05-09T04:13:44.162978Z",
     "iopub.status.idle": "2022-05-09T04:13:44.173253Z",
     "shell.execute_reply": "2022-05-09T04:13:44.172438Z",
     "shell.execute_reply.started": "2022-05-09T04:13:44.163192Z"
    }
   },
   "outputs": [],
   "source": [
    "y.head()"
   ]
  },
  {
   "cell_type": "code",
   "execution_count": 34,
   "metadata": {
    "execution": {
     "iopub.execute_input": "2022-05-09T04:13:44.174866Z",
     "iopub.status.busy": "2022-05-09T04:13:44.174586Z",
     "iopub.status.idle": "2022-05-09T04:13:44.182765Z",
     "shell.execute_reply": "2022-05-09T04:13:44.182166Z",
     "shell.execute_reply.started": "2022-05-09T04:13:44.174832Z"
    }
   },
   "outputs": [],
   "source": [
    "lr = LinearRegression()"
   ]
  },
  {
   "cell_type": "code",
   "execution_count": 35,
   "metadata": {
    "execution": {
     "iopub.execute_input": "2022-05-09T04:13:44.184037Z",
     "iopub.status.busy": "2022-05-09T04:13:44.183802Z",
     "iopub.status.idle": "2022-05-09T04:13:44.203662Z",
     "shell.execute_reply": "2022-05-09T04:13:44.202982Z",
     "shell.execute_reply.started": "2022-05-09T04:13:44.184008Z"
    }
   },
   "outputs": [],
   "source": [
    "from sklearn.model_selection import train_test_split as tts\n",
    "\n",
    "x_train, x_test, y_train, y_test = tts(x, y, test_size = 0.2)"
   ]
  },
  {
   "cell_type": "markdown",
   "metadata": {},
   "source": [
    "There's a `bug` that needs to be fixed"
   ]
  },
  {
   "cell_type": "code",
   "execution_count": 36,
   "metadata": {
    "execution": {
     "iopub.execute_input": "2022-05-09T04:13:44.205474Z",
     "iopub.status.busy": "2022-05-09T04:13:44.204817Z",
     "iopub.status.idle": "2022-05-09T04:13:44.213488Z",
     "shell.execute_reply": "2022-05-09T04:13:44.212676Z",
     "shell.execute_reply.started": "2022-05-09T04:13:44.205432Z"
    }
   },
   "outputs": [],
   "source": [
    "#I'm having an issue here; my y_train is not suppose to have any null value\n",
    "y_train.isnull().sum()"
   ]
  },
  {
   "cell_type": "code",
   "execution_count": 37,
   "metadata": {
    "execution": {
     "iopub.execute_input": "2022-05-09T04:13:44.215210Z",
     "iopub.status.busy": "2022-05-09T04:13:44.214861Z",
     "iopub.status.idle": "2022-05-09T04:13:44.379115Z",
     "shell.execute_reply": "2022-05-09T04:13:44.377539Z",
     "shell.execute_reply.started": "2022-05-09T04:13:44.215160Z"
    }
   },
   "outputs": [],
   "source": [
    "lr.fit(x_train, y_train)\n",
    "\n",
    "prediction = lr.predict(x_test)"
   ]
  },
  {
   "cell_type": "code",
   "execution_count": null,
   "metadata": {
    "execution": {
     "iopub.status.busy": "2022-05-09T04:13:44.380159Z",
     "iopub.status.idle": "2022-05-09T04:13:44.380530Z",
     "shell.execute_reply": "2022-05-09T04:13:44.380363Z",
     "shell.execute_reply.started": "2022-05-09T04:13:44.380341Z"
    }
   },
   "outputs": [],
   "source": [
    "def rmse(y_test, y_predict):\n",
    "    return np.sqrt(mean_squared_error(y_test, y_predict))"
   ]
  },
  {
   "cell_type": "code",
   "execution_count": null,
   "metadata": {
    "execution": {
     "iopub.status.busy": "2022-05-09T04:13:44.382375Z",
     "iopub.status.idle": "2022-05-09T04:13:44.383306Z",
     "shell.execute_reply": "2022-05-09T04:13:44.383038Z",
     "shell.execute_reply.started": "2022-05-09T04:13:44.383004Z"
    }
   },
   "outputs": [],
   "source": [
    "rmse(y_test, prediction)"
   ]
  },
  {
   "cell_type": "code",
   "execution_count": null,
   "metadata": {
    "execution": {
     "iopub.status.busy": "2022-05-09T04:13:44.384544Z",
     "iopub.status.idle": "2022-05-09T04:13:44.385347Z",
     "shell.execute_reply": "2022-05-09T04:13:44.385098Z",
     "shell.execute_reply.started": "2022-05-09T04:13:44.385069Z"
    }
   },
   "outputs": [],
   "source": [
    "lr.fit(x_train, y)\n",
    "prediction = lr.predict(x_test)"
   ]
  },
  {
   "cell_type": "code",
   "execution_count": null,
   "metadata": {
    "execution": {
     "iopub.status.busy": "2022-05-09T04:13:44.386876Z",
     "iopub.status.idle": "2022-05-09T04:13:44.387347Z",
     "shell.execute_reply": "2022-05-09T04:13:44.387122Z",
     "shell.execute_reply.started": "2022-05-09T04:13:44.387097Z"
    }
   },
   "outputs": [],
   "source": [
    "y.isnull().sum()"
   ]
  },
  {
   "cell_type": "code",
   "execution_count": null,
   "metadata": {},
   "outputs": [],
   "source": []
  }
 ],
 "metadata": {
  "kernelspec": {
   "display_name": "Python 3 (ipykernel)",
   "language": "python",
   "name": "python3"
  },
  "language_info": {
   "codemirror_mode": {
    "name": "ipython",
    "version": 3
   },
   "file_extension": ".py",
   "mimetype": "text/x-python",
   "name": "python",
   "nbconvert_exporter": "python",
   "pygments_lexer": "ipython3",
   "version": "3.9.7"
  }
 },
 "nbformat": 4,
 "nbformat_minor": 4
}
